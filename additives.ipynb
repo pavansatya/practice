{
 "cells": [
  {
   "cell_type": "code",
   "execution_count": 1,
   "metadata": {},
   "outputs": [],
   "source": [
    "import pandas as pd \n",
    "import numpy as np\n",
    "import matplotlib.pyplot as plt\n"
   ]
  },
  {
   "cell_type": "code",
   "execution_count": 2,
   "metadata": {},
   "outputs": [
    {
     "data": {
      "text/html": [
       "<div>\n",
       "<style scoped>\n",
       "    .dataframe tbody tr th:only-of-type {\n",
       "        vertical-align: middle;\n",
       "    }\n",
       "\n",
       "    .dataframe tbody tr th {\n",
       "        vertical-align: top;\n",
       "    }\n",
       "\n",
       "    .dataframe thead th {\n",
       "        text-align: right;\n",
       "    }\n",
       "</style>\n",
       "<table border=\"1\" class=\"dataframe\">\n",
       "  <thead>\n",
       "    <tr style=\"text-align: right;\">\n",
       "      <th></th>\n",
       "      <th>product_name</th>\n",
       "      <th>brands</th>\n",
       "      <th>categories_en</th>\n",
       "      <th>labels_en</th>\n",
       "      <th>ingredients_text</th>\n",
       "      <th>allergens_en</th>\n",
       "      <th>additives_en</th>\n",
       "      <th>nutrition_grade_fr</th>\n",
       "      <th>energy_100g</th>\n",
       "      <th>fat_100g</th>\n",
       "      <th>...</th>\n",
       "      <th>cocoa_100g</th>\n",
       "      <th>carbon-footprint_100g</th>\n",
       "      <th>nutrition-score-fr_100g</th>\n",
       "      <th>nutrition-score-uk_100g</th>\n",
       "      <th>category_level_1</th>\n",
       "      <th>category_level_2</th>\n",
       "      <th>category_level_3</th>\n",
       "      <th>category_level_4</th>\n",
       "      <th>category_level_5</th>\n",
       "      <th>category_level_6</th>\n",
       "    </tr>\n",
       "  </thead>\n",
       "  <tbody>\n",
       "    <tr>\n",
       "      <th>0</th>\n",
       "      <td>Banana Chips Sweetened (Whole)</td>\n",
       "      <td>not mentioned</td>\n",
       "      <td>Not Mentioned</td>\n",
       "      <td>Labels are missing</td>\n",
       "      <td>Bananas, vegetable oil (coconut oil, corn oil ...</td>\n",
       "      <td>unknown</td>\n",
       "      <td>No additives</td>\n",
       "      <td>d</td>\n",
       "      <td>2243.0</td>\n",
       "      <td>28.57</td>\n",
       "      <td>...</td>\n",
       "      <td>0.0</td>\n",
       "      <td>no information</td>\n",
       "      <td>14.0</td>\n",
       "      <td>14.0</td>\n",
       "      <td>Not Mentioned</td>\n",
       "      <td>Not Specified</td>\n",
       "      <td>Not Specified</td>\n",
       "      <td>Not Specified</td>\n",
       "      <td>Not Specified</td>\n",
       "      <td>Not Specified</td>\n",
       "    </tr>\n",
       "    <tr>\n",
       "      <th>1</th>\n",
       "      <td>Peanuts</td>\n",
       "      <td>torn &amp; glasser</td>\n",
       "      <td>Not Mentioned</td>\n",
       "      <td>Labels are missing</td>\n",
       "      <td>Peanuts, wheat flour, sugar, rice flour, tapio...</td>\n",
       "      <td>soy, wheat, peanuts</td>\n",
       "      <td>No additives</td>\n",
       "      <td>b</td>\n",
       "      <td>1941.0</td>\n",
       "      <td>17.86</td>\n",
       "      <td>...</td>\n",
       "      <td>0.0</td>\n",
       "      <td>no information</td>\n",
       "      <td>0.0</td>\n",
       "      <td>0.0</td>\n",
       "      <td>Not Mentioned</td>\n",
       "      <td>Not Specified</td>\n",
       "      <td>Not Specified</td>\n",
       "      <td>Not Specified</td>\n",
       "      <td>Not Specified</td>\n",
       "      <td>Not Specified</td>\n",
       "    </tr>\n",
       "    <tr>\n",
       "      <th>2</th>\n",
       "      <td>Organic Salted Nut Mix</td>\n",
       "      <td>grizzlies</td>\n",
       "      <td>Not Mentioned</td>\n",
       "      <td>Labels are missing</td>\n",
       "      <td>Organic hazelnuts, organic cashews, organic wa...</td>\n",
       "      <td>unknown</td>\n",
       "      <td>No additives</td>\n",
       "      <td>d</td>\n",
       "      <td>2540.0</td>\n",
       "      <td>57.14</td>\n",
       "      <td>...</td>\n",
       "      <td>0.0</td>\n",
       "      <td>no information</td>\n",
       "      <td>12.0</td>\n",
       "      <td>12.0</td>\n",
       "      <td>Not Mentioned</td>\n",
       "      <td>Not Specified</td>\n",
       "      <td>Not Specified</td>\n",
       "      <td>Not Specified</td>\n",
       "      <td>Not Specified</td>\n",
       "      <td>Not Specified</td>\n",
       "    </tr>\n",
       "    <tr>\n",
       "      <th>3</th>\n",
       "      <td>Organic Polenta</td>\n",
       "      <td>bob's red mill</td>\n",
       "      <td>Not Mentioned</td>\n",
       "      <td>Labels are missing</td>\n",
       "      <td>Organic polenta</td>\n",
       "      <td>unknown</td>\n",
       "      <td>No additives</td>\n",
       "      <td>not given</td>\n",
       "      <td>1552.0</td>\n",
       "      <td>1.43</td>\n",
       "      <td>...</td>\n",
       "      <td>0.0</td>\n",
       "      <td>no information</td>\n",
       "      <td>not given</td>\n",
       "      <td>not given</td>\n",
       "      <td>Not Mentioned</td>\n",
       "      <td>Not Specified</td>\n",
       "      <td>Not Specified</td>\n",
       "      <td>Not Specified</td>\n",
       "      <td>Not Specified</td>\n",
       "      <td>Not Specified</td>\n",
       "    </tr>\n",
       "    <tr>\n",
       "      <th>4</th>\n",
       "      <td>Breadshop Honey Gone Nuts Granola</td>\n",
       "      <td>unfi</td>\n",
       "      <td>Not Mentioned</td>\n",
       "      <td>Labels are missing</td>\n",
       "      <td>Rolled oats, grape concentrate, expeller press...</td>\n",
       "      <td>sesame</td>\n",
       "      <td>No additives</td>\n",
       "      <td>not given</td>\n",
       "      <td>1933.0</td>\n",
       "      <td>18.27</td>\n",
       "      <td>...</td>\n",
       "      <td>0.0</td>\n",
       "      <td>no information</td>\n",
       "      <td>not given</td>\n",
       "      <td>not given</td>\n",
       "      <td>Not Mentioned</td>\n",
       "      <td>Not Specified</td>\n",
       "      <td>Not Specified</td>\n",
       "      <td>Not Specified</td>\n",
       "      <td>Not Specified</td>\n",
       "      <td>Not Specified</td>\n",
       "    </tr>\n",
       "  </tbody>\n",
       "</table>\n",
       "<p>5 rows × 98 columns</p>\n",
       "</div>"
      ],
      "text/plain": [
       "                        product_name          brands  categories_en  \\\n",
       "0     Banana Chips Sweetened (Whole)   not mentioned  Not Mentioned   \n",
       "1                            Peanuts  torn & glasser  Not Mentioned   \n",
       "2             Organic Salted Nut Mix       grizzlies  Not Mentioned   \n",
       "3                    Organic Polenta  bob's red mill  Not Mentioned   \n",
       "4  Breadshop Honey Gone Nuts Granola            unfi  Not Mentioned   \n",
       "\n",
       "            labels_en                                   ingredients_text  \\\n",
       "0  Labels are missing  Bananas, vegetable oil (coconut oil, corn oil ...   \n",
       "1  Labels are missing  Peanuts, wheat flour, sugar, rice flour, tapio...   \n",
       "2  Labels are missing  Organic hazelnuts, organic cashews, organic wa...   \n",
       "3  Labels are missing                                    Organic polenta   \n",
       "4  Labels are missing  Rolled oats, grape concentrate, expeller press...   \n",
       "\n",
       "          allergens_en  additives_en nutrition_grade_fr  energy_100g  \\\n",
       "0              unknown  No additives                  d       2243.0   \n",
       "1  soy, wheat, peanuts  No additives                  b       1941.0   \n",
       "2              unknown  No additives                  d       2540.0   \n",
       "3              unknown  No additives          not given       1552.0   \n",
       "4               sesame  No additives          not given       1933.0   \n",
       "\n",
       "   fat_100g  ...  cocoa_100g  carbon-footprint_100g  nutrition-score-fr_100g  \\\n",
       "0     28.57  ...         0.0         no information                     14.0   \n",
       "1     17.86  ...         0.0         no information                      0.0   \n",
       "2     57.14  ...         0.0         no information                     12.0   \n",
       "3      1.43  ...         0.0         no information                not given   \n",
       "4     18.27  ...         0.0         no information                not given   \n",
       "\n",
       "   nutrition-score-uk_100g  category_level_1  category_level_2  \\\n",
       "0                     14.0     Not Mentioned     Not Specified   \n",
       "1                      0.0     Not Mentioned     Not Specified   \n",
       "2                     12.0     Not Mentioned     Not Specified   \n",
       "3                not given     Not Mentioned     Not Specified   \n",
       "4                not given     Not Mentioned     Not Specified   \n",
       "\n",
       "   category_level_3  category_level_4  category_level_5  category_level_6  \n",
       "0     Not Specified     Not Specified     Not Specified     Not Specified  \n",
       "1     Not Specified     Not Specified     Not Specified     Not Specified  \n",
       "2     Not Specified     Not Specified     Not Specified     Not Specified  \n",
       "3     Not Specified     Not Specified     Not Specified     Not Specified  \n",
       "4     Not Specified     Not Specified     Not Specified     Not Specified  \n",
       "\n",
       "[5 rows x 98 columns]"
      ]
     },
     "execution_count": 2,
     "metadata": {},
     "output_type": "execute_result"
    }
   ],
   "source": [
    "data = pd.read_csv('data/cleaned_data.csv')\n",
    "data.head()"
   ]
  },
  {
   "cell_type": "code",
   "execution_count": 3,
   "metadata": {},
   "outputs": [
    {
     "data": {
      "text/plain": [
       "(171521, 98)"
      ]
     },
     "execution_count": 3,
     "metadata": {},
     "output_type": "execute_result"
    }
   ],
   "source": [
    "us_data = pd.read_csv('data/us_data.csv')\n",
    "us_data.shape"
   ]
  },
  {
   "cell_type": "code",
   "execution_count": 4,
   "metadata": {},
   "outputs": [],
   "source": [
    "from modules.ingredients import clean_ingredients\n",
    "\n",
    "data['ingredients'] = data['ingredients_text'].apply(clean_ingredients)\n",
    "us_data['ingredients'] = us_data['ingredients_text'].apply(clean_ingredients)"
   ]
  },
  {
   "cell_type": "code",
   "execution_count": 5,
   "metadata": {},
   "outputs": [],
   "source": [
    "data = data.drop(columns=['ingredients_text', 'categories_en'])\n",
    "us_data = us_data.drop(columns=['ingredients_text', 'categories_en'])"
   ]
  },
  {
   "cell_type": "markdown",
   "metadata": {},
   "source": [
    "### Pre-processing "
   ]
  },
  {
   "cell_type": "code",
   "execution_count": 6,
   "metadata": {},
   "outputs": [],
   "source": [
    "# Clean and standardize text columns\n",
    "def clean_text(text):\n",
    "    if isinstance(text, str):\n",
    "        return text.lower().strip()\n",
    "    return text\n",
    "\n",
    "data['product_name'] = data['product_name'].apply(clean_text)\n",
    "data['ingredients'] = data['ingredients'].apply(clean_text)\n",
    "data['allergens_en'] = data['allergens_en'].apply(clean_text)\n",
    "data['category_level_1'] = data['category_level_1'].apply(clean_text)\n",
    "data['category_level_2'] = data['category_level_2'].apply(clean_text)"
   ]
  },
  {
   "cell_type": "code",
   "execution_count": 7,
   "metadata": {},
   "outputs": [],
   "source": [
    "# Replace placeholders with NaN or empty lists\n",
    "data['allergens_en'] = data['allergens_en'].replace('unknown', np.nan)\n",
    "data['ingredients'] = data['ingredients'].replace('ingredients are missing', np.nan)"
   ]
  },
  {
   "cell_type": "code",
   "execution_count": 8,
   "metadata": {},
   "outputs": [],
   "source": [
    "# Split columns into lists\n",
    "data['ingredients'] = data['ingredients'].str.split(', ')\n",
    "data['allergens_en'] = data['allergens_en'].str.split(', ')"
   ]
  },
  {
   "cell_type": "code",
   "execution_count": 9,
   "metadata": {},
   "outputs": [],
   "source": [
    "# Create binary flags for allergens\n",
    "allergens = data.allergens_en.explode().unique()\n",
    "\n",
    "for allergen in allergens:\n",
    "    data[f'contains_{allergen}'] = data['allergens_en'].apply(lambda x: allergen in x if isinstance(x, list) else False)"
   ]
  },
  {
   "cell_type": "markdown",
   "metadata": {},
   "source": [
    "### Implement product matching"
   ]
  },
  {
   "cell_type": "code",
   "execution_count": 10,
   "metadata": {},
   "outputs": [
    {
     "name": "stdout",
     "output_type": "stream",
     "text": [
      "Top matches for user input: [('banana crisps', 100), ('crisps', 90), ('crisps', 90), ('crisps', 90), ('banana', 90)]\n"
     ]
    }
   ],
   "source": [
    "from fuzzywuzzy import process\n",
    "\n",
    "# Sample user input\n",
    "user_input = \"banana crisps\"\n",
    "\n",
    "# Function to find closest matches\n",
    "def find_closest_match(user_input, choices, limit=5):\n",
    "    matches = process.extract(user_input, choices, limit=limit)\n",
    "    return matches\n",
    "\n",
    "# Get closest matches\n",
    "product_names = data['product_name'].tolist()\n",
    "matches = find_closest_match(user_input, product_names)\n",
    "\n",
    "print(\"Top matches for user input:\", matches)"
   ]
  },
  {
   "cell_type": "markdown",
   "metadata": {},
   "source": [
    "Approach 1 "
   ]
  },
  {
   "cell_type": "code",
   "execution_count": 11,
   "metadata": {},
   "outputs": [],
   "source": [
    "from sklearn.feature_extraction.text import TfidfVectorizer\n",
    "from sklearn.metrics.pairwise import cosine_similarity\n",
    "\n",
    "# Convert ingredients list back to strings for TF-IDF\n",
    "data['ingredients_str'] = data['ingredients'].apply(lambda x: ', '.join(x) if isinstance(x, list) else '')\n",
    "\n",
    "# Create TF-IDF matrix\n",
    "tfidf = TfidfVectorizer(stop_words='english')\n",
    "tfidf_matrix = tfidf.fit_transform(data['ingredients_str'])"
   ]
  },
  {
   "cell_type": "code",
   "execution_count": 12,
   "metadata": {},
   "outputs": [],
   "source": [
    "# Function to get similar products for a subset\n",
    "def get_similar_products(product_name, tfidf_matrix, df, top_n=5):\n",
    "    # Get the index of the product\n",
    "    idx = df[df['product_name'] == product_name].index[0]\n",
    "    \n",
    "    # Compute cosine similarity between the query product and all others\n",
    "    cosine_sim = cosine_similarity(tfidf_matrix[idx:idx+1], tfidf_matrix).flatten()\n",
    "    \n",
    "    # Get top N similar products\n",
    "    sim_scores = list(enumerate(cosine_sim))\n",
    "    sim_scores = sorted(sim_scores, key=lambda x: x[1], reverse=True)\n",
    "    sim_scores = sim_scores[1:top_n+1]  # Exclude the product itself\n",
    "    product_indices = [i[0] for i in sim_scores]\n",
    "    \n",
    "    return df.iloc[product_indices]"
   ]
  },
  {
   "cell_type": "code",
   "execution_count": 13,
   "metadata": {},
   "outputs": [],
   "source": [
    "def filter_by_allergens(recommendations, allergens_to_avoid):\n",
    "    # Check if the product contains any of the allergens to avoid\n",
    "    for allergen in allergens_to_avoid:\n",
    "        if f'contains_{allergen}' in recommendations.columns:\n",
    "            recommendations = recommendations[~recommendations[f'contains_{allergen}']]\n",
    "    return recommendations"
   ]
  },
  {
   "cell_type": "code",
   "execution_count": 14,
   "metadata": {},
   "outputs": [
    {
     "name": "stdout",
     "output_type": "stream",
     "text": [
      "Final recommendations:\n",
      "                                             product_name  \\\n",
      "115754  nud, organic paleo vegan raw snacks, cacao banana   \n",
      "115753                            spirulina banana crisps   \n",
      "139722  dr. mcdougall's, organic oatmeal hot cereal, c...   \n",
      "139721                     organic might omega hot cereal   \n",
      "\n",
      "                                              ingredients category_level_1  \\\n",
      "115754  [organic fresh banana, organic sesame seed, or...    not mentioned   \n",
      "115753  [organic fresh banana, organic sesame seed, or...    not mentioned   \n",
      "139722  [organic thick cut whole grain oats, organic s...    not mentioned   \n",
      "139721  [organic thick cut whole grain oats, organic s...    not mentioned   \n",
      "\n",
      "       category_level_2  \n",
      "115754    not specified  \n",
      "115753    not specified  \n",
      "139722    not specified  \n",
      "139721    not specified  \n"
     ]
    }
   ],
   "source": [
    "def recommend_products(user_input, allergens_to_avoid, df, tfidf_matrix, top_n=5):\n",
    "    # Step 1: Find closest match\n",
    "    matches = find_closest_match(user_input, df['product_name'].tolist(), limit=1)\n",
    "    closest_match = matches[0][0]  # Get the top match\n",
    "    \n",
    "    # Step 2: Get category of the closest match\n",
    "    closest_match_categories = df[df['product_name'] == closest_match][['category_level_1', 'category_level_2']].values[0]\n",
    "    \n",
    "    # Step 3: Filter products in the same category\n",
    "    same_category_products = df[\n",
    "        (df['category_level_1'] == closest_match_categories[0]) & \n",
    "        (df['category_level_2'] == closest_match_categories[1])\n",
    "    ]\n",
    "    \n",
    "    # Step 4: Get similar products within the same category\n",
    "    if not same_category_products.empty:\n",
    "        # Get indices of products in the same category\n",
    "        same_category_indices = same_category_products.index\n",
    "        \n",
    "        # Compute similarity scores for products in the same category\n",
    "        query_index = df[df['product_name'] == closest_match].index[0]\n",
    "        cosine_sim = cosine_similarity(tfidf_matrix[query_index:query_index+1], tfidf_matrix[same_category_indices]).flatten()\n",
    "        \n",
    "        # Get top N similar products\n",
    "        sim_scores = list(enumerate(cosine_sim))\n",
    "        sim_scores = sorted(sim_scores, key=lambda x: x[1], reverse=True)\n",
    "        sim_scores = sim_scores[1:top_n+1]  # Exclude the product itself\n",
    "        product_indices = [same_category_indices[i[0]] for i in sim_scores]\n",
    "        \n",
    "        recommendations = df.iloc[product_indices]\n",
    "    else:\n",
    "        # If no products in the same category, fall back to global similarity\n",
    "        recommendations = get_similar_products(closest_match, tfidf_matrix, df, top_n)\n",
    "    \n",
    "    # Step 5: Filter by allergens\n",
    "    recommendations = filter_by_allergens(recommendations, allergens_to_avoid)\n",
    "    \n",
    "    return recommendations\n",
    "\n",
    "# Example: User inputs \"banana crisps\" and wants to avoid \"soy\" and \"peanuts\"\n",
    "user_input = \"banana crisps\"\n",
    "allergens_to_avoid = ['soy', 'peanuts']\n",
    "recommendations = recommend_products(user_input, allergens_to_avoid, data, tfidf_matrix)\n",
    "\n",
    "print(\"Final recommendations:\")\n",
    "print(recommendations[['product_name', 'ingredients', 'category_level_1', 'category_level_2']])"
   ]
  }
 ],
 "metadata": {
  "kernelspec": {
   "display_name": "base",
   "language": "python",
   "name": "python3"
  },
  "language_info": {
   "codemirror_mode": {
    "name": "ipython",
    "version": 3
   },
   "file_extension": ".py",
   "mimetype": "text/x-python",
   "name": "python",
   "nbconvert_exporter": "python",
   "pygments_lexer": "ipython3",
   "version": "3.12.7"
  }
 },
 "nbformat": 4,
 "nbformat_minor": 2
}
